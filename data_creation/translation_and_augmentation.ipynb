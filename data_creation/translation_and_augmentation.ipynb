{
 "cells": [
  {
   "cell_type": "code",
   "execution_count": 29,
   "metadata": {
    "colab": {
     "base_uri": "https://localhost:8080/"
    },
    "id": "k8m2ebEbWmX3",
    "outputId": "eaa76b03-d063-448a-d5f9-60c46a736575"
   },
   "outputs": [
    {
     "name": "stdout",
     "output_type": "stream",
     "text": [
      "Requirement already satisfied: googletrans in ./anaconda3/lib/python3.11/site-packages (3.1.0a0)\r\n",
      "Requirement already satisfied: httpx==0.13.3 in ./anaconda3/lib/python3.11/site-packages (from googletrans) (0.13.3)\r\n",
      "Requirement already satisfied: certifi in ./anaconda3/lib/python3.11/site-packages (from httpx==0.13.3->googletrans) (2023.11.17)\r\n",
      "Requirement already satisfied: hstspreload in ./anaconda3/lib/python3.11/site-packages (from httpx==0.13.3->googletrans) (2024.1.5)\r\n",
      "Requirement already satisfied: sniffio in ./anaconda3/lib/python3.11/site-packages (from httpx==0.13.3->googletrans) (1.2.0)\r\n",
      "Requirement already satisfied: chardet==3.* in ./anaconda3/lib/python3.11/site-packages (from httpx==0.13.3->googletrans) (3.0.4)\r\n",
      "Requirement already satisfied: idna==2.* in ./anaconda3/lib/python3.11/site-packages (from httpx==0.13.3->googletrans) (2.10)\r\n",
      "Requirement already satisfied: rfc3986<2,>=1.3 in ./anaconda3/lib/python3.11/site-packages (from httpx==0.13.3->googletrans) (1.5.0)\r\n",
      "Requirement already satisfied: httpcore==0.9.* in ./anaconda3/lib/python3.11/site-packages (from httpx==0.13.3->googletrans) (0.9.1)\r\n",
      "Requirement already satisfied: h11<0.10,>=0.8 in ./anaconda3/lib/python3.11/site-packages (from httpcore==0.9.*->httpx==0.13.3->googletrans) (0.9.0)\r\n",
      "Requirement already satisfied: h2==3.* in ./anaconda3/lib/python3.11/site-packages (from httpcore==0.9.*->httpx==0.13.3->googletrans) (3.2.0)\r\n",
      "Requirement already satisfied: hyperframe<6,>=5.2.0 in ./anaconda3/lib/python3.11/site-packages (from h2==3.*->httpcore==0.9.*->httpx==0.13.3->googletrans) (5.2.0)\r\n",
      "Requirement already satisfied: hpack<4,>=3.0 in ./anaconda3/lib/python3.11/site-packages (from h2==3.*->httpcore==0.9.*->httpx==0.13.3->googletrans) (3.0.0)\r\n"
     ]
    }
   ],
   "source": [
    "! pip3 install googletrans"
   ]
  },
  {
   "cell_type": "code",
   "execution_count": 30,
   "metadata": {},
   "outputs": [
    {
     "name": "stdout",
     "output_type": "stream",
     "text": [
      "Requirement already satisfied: transformers in ./anaconda3/lib/python3.11/site-packages (4.32.1)\n",
      "Requirement already satisfied: filelock in ./anaconda3/lib/python3.11/site-packages (from transformers) (3.9.0)\n",
      "Requirement already satisfied: huggingface-hub<1.0,>=0.15.1 in ./anaconda3/lib/python3.11/site-packages (from transformers) (0.15.1)\n",
      "Requirement already satisfied: numpy>=1.17 in ./anaconda3/lib/python3.11/site-packages (from transformers) (1.24.3)\n",
      "Requirement already satisfied: packaging>=20.0 in ./anaconda3/lib/python3.11/site-packages (from transformers) (23.1)\n",
      "Requirement already satisfied: pyyaml>=5.1 in ./anaconda3/lib/python3.11/site-packages (from transformers) (6.0)\n",
      "Requirement already satisfied: regex!=2019.12.17 in ./anaconda3/lib/python3.11/site-packages (from transformers) (2022.7.9)\n",
      "Requirement already satisfied: requests in ./anaconda3/lib/python3.11/site-packages (from transformers) (2.31.0)\n",
      "Requirement already satisfied: tokenizers!=0.11.3,<0.14,>=0.11.1 in ./anaconda3/lib/python3.11/site-packages (from transformers) (0.13.2)\n",
      "Requirement already satisfied: safetensors>=0.3.1 in ./anaconda3/lib/python3.11/site-packages (from transformers) (0.3.2)\n",
      "Requirement already satisfied: tqdm>=4.27 in ./anaconda3/lib/python3.11/site-packages (from transformers) (4.65.0)\n",
      "Requirement already satisfied: fsspec in ./anaconda3/lib/python3.11/site-packages (from huggingface-hub<1.0,>=0.15.1->transformers) (2023.4.0)\n",
      "Requirement already satisfied: typing-extensions>=3.7.4.3 in ./anaconda3/lib/python3.11/site-packages (from huggingface-hub<1.0,>=0.15.1->transformers) (4.7.1)\n",
      "Requirement already satisfied: charset-normalizer<4,>=2 in ./anaconda3/lib/python3.11/site-packages (from requests->transformers) (2.0.4)\n",
      "Requirement already satisfied: idna<4,>=2.5 in ./anaconda3/lib/python3.11/site-packages (from requests->transformers) (2.10)\n",
      "Requirement already satisfied: urllib3<3,>=1.21.1 in ./anaconda3/lib/python3.11/site-packages (from requests->transformers) (1.26.16)\n",
      "Requirement already satisfied: certifi>=2017.4.17 in ./anaconda3/lib/python3.11/site-packages (from requests->transformers) (2023.11.17)\n"
     ]
    }
   ],
   "source": [
    "!pip install transformers"
   ]
  },
  {
   "cell_type": "code",
   "execution_count": 31,
   "metadata": {},
   "outputs": [
    {
     "name": "stdout",
     "output_type": "stream",
     "text": [
      "Requirement already satisfied: torch in ./anaconda3/lib/python3.11/site-packages (2.1.2)\n",
      "Requirement already satisfied: filelock in ./anaconda3/lib/python3.11/site-packages (from torch) (3.9.0)\n",
      "Requirement already satisfied: typing-extensions in ./anaconda3/lib/python3.11/site-packages (from torch) (4.7.1)\n",
      "Requirement already satisfied: sympy in ./anaconda3/lib/python3.11/site-packages (from torch) (1.11.1)\n",
      "Requirement already satisfied: networkx in ./anaconda3/lib/python3.11/site-packages (from torch) (3.1)\n",
      "Requirement already satisfied: jinja2 in ./anaconda3/lib/python3.11/site-packages (from torch) (3.1.2)\n",
      "Requirement already satisfied: fsspec in ./anaconda3/lib/python3.11/site-packages (from torch) (2023.4.0)\n",
      "Requirement already satisfied: MarkupSafe>=2.0 in ./anaconda3/lib/python3.11/site-packages (from jinja2->torch) (2.1.1)\n",
      "Requirement already satisfied: mpmath>=0.19 in ./anaconda3/lib/python3.11/site-packages (from sympy->torch) (1.3.0)\n"
     ]
    }
   ],
   "source": [
    "!pip install torch"
   ]
  },
  {
   "cell_type": "code",
   "execution_count": null,
   "metadata": {},
   "outputs": [],
   "source": [
    "import json\n",
    "import csv\n",
    "from copy import deepcopy"
   ]
  },
  {
   "cell_type": "code",
   "execution_count": 9,
   "metadata": {},
   "outputs": [],
   "source": [
    "import torch\n",
    "from torch.nn.functional import softmax"
   ]
  },
  {
   "cell_type": "code",
   "execution_count": null,
   "metadata": {},
   "outputs": [],
   "source": [
    "from .change_colors import change_color"
   ]
  },
  {
   "cell_type": "code",
   "execution_count": 10,
   "metadata": {},
   "outputs": [],
   "source": [
    "from transformers import pipeline\n",
    "pipe = pipeline(\"text-classification\", model=\"RussianNLP/ruRoBERTa-large-rucola\")"
   ]
  },
  {
   "cell_type": "code",
   "execution_count": 11,
   "metadata": {},
   "outputs": [],
   "source": [
    "from transformers import AutoTokenizer, AutoModelForSequenceClassification\n",
    "\n",
    "tokenizer = AutoTokenizer.from_pretrained(\"RussianNLP/ruRoBERTa-large-rucola\")\n",
    "model = AutoModelForSequenceClassification.from_pretrained(\"RussianNLP/ruRoBERTa-large-rucola\")"
   ]
  },
  {
   "cell_type": "code",
   "execution_count": 12,
   "metadata": {},
   "outputs": [],
   "source": [
    "def evaluate_sentence(sentence):\n",
    "    inputs = tokenizer(sentence, return_tensors=\"pt\", padding=True)\n",
    "    with torch.no_grad():\n",
    "        outputs = model(**inputs)\n",
    "        probabilities = torch.sigmoid(outputs.logits)\n",
    "        score = probabilities[0][1].item()\n",
    "        return score"
   ]
  },
  {
   "cell_type": "code",
   "execution_count": 13,
   "metadata": {},
   "outputs": [
    {
     "data": {
      "text/plain": [
       "0.17060308158397675"
      ]
     },
     "execution_count": 13,
     "metadata": {},
     "output_type": "execute_result"
    }
   ],
   "source": [
    "evaluate_sentence('Есть куб, который находится как за большим красным объектом, так и слева от голубого объекта; какой это материал?')"
   ]
  },
  {
   "cell_type": "code",
   "execution_count": null,
   "metadata": {},
   "outputs": [],
   "source": [
    "#создание нового файла\n",
    "path_new = ''\n",
    "with open(path_new, 'w', newline='', encoding='utf-8') as fl:\n",
    "    names = ['image_filename', 'original', 'translation', 'answer']\n",
    "    file_writer = csv.DictWriter(fl, delimiter=\",\", lineterminator=\"\\r\", fieldnames=names)\n",
    "    file_writer.writeheader()\n",
    "\n",
    "path_new"
   ]
  },
  {
   "cell_type": "code",
   "execution_count": 403,
   "metadata": {
    "colab": {
     "base_uri": "https://localhost:8080/",
     "height": 385
    },
    "id": "uVARBUC-Gmgp",
    "outputId": "4812ea7c-30d8-42b4-8072-b64108db1d20"
   },
   "outputs": [
    {
     "name": "stdout",
     "output_type": "stream",
     "text": [
      "CLEVR_new_000070.png\n"
     ]
    }
   ],
   "source": [
    "path_og = '/output_questions.json'\n",
    "path_new = '/test_questions.csv'\n",
    "\n",
    "with open(path_new, 'r') as fl:\n",
    "    reader = csv.DictReader(fl)\n",
    "    last_row = None\n",
    "    for row in reader:\n",
    "        last_row = row  # Сохраняем последнюю строку\n",
    "    last_image_filename = last_row['image_filename'] if last_row else None\n",
    "    print(last_image_filename)\n",
    "\n",
    "from googletrans import Translator\n",
    "def translator(st):\n",
    "    translator = Translator()\n",
    "    return translator.translate(st, src= 'en', dest='ru').text\n",
    "\n",
    "# Перевод вопросов, начиная с последнего обработанного\n",
    "with open(path_new, 'a', encoding='utf-8') as fl:\n",
    "    names = ['image_filename', 'original', 'translation', 'answer']\n",
    "    file_writer = csv.DictWriter(fl, delimiter=\",\", lineterminator=\"\\r\", fieldnames=names)\n",
    "\n",
    "    with open(path_og) as f:\n",
    "        data = json.load(f)\n",
    "        resume = False\n",
    "        for quest in data['questions']:\n",
    "            try:\n",
    "                if not resume and last_image_filename and quest['image_filename'] == last_image_filename:\n",
    "                    resume = True\n",
    "                    continue  # Пропускаем уже обработанную запись\n",
    "                if resume or last_image_filename == None:  # Если мы дошли до точки возобновления, начинаем перевод\n",
    "                    if ' thing' in quest['question']:\n",
    "                        quest['question'] = quest['question'].replace(' thing', ' object')\n",
    "                    translation = translator(quest['question'])\n",
    "                    if evaluate_sentence(translation) > 0.51:\n",
    "                        file_writer.writerow({'image_filename': quest['image_filename'], 'original':quest['question'], 'translation' : translation, 'answer':  translator(quest['answer'])})\n",
    "            except Exception as e:\n",
    "                print(f\"Ошибка при обработке вопроса: {e}\")\n",
    "                continue\n"
   ]
  },
  {
   "cell_type": "code",
   "execution_count": null,
   "metadata": {},
   "outputs": [],
   "source": [
    "def augmentate_and_translate(quests_path, images_path, aug_quests_path):\n",
    "    with open('/val_aug_questions.csv', 'a', newline='') as fl:\n",
    "        names = ['image_filename', 'original', 'translation', 'answer']\n",
    "        file_writer = csv.DictWriter(fl, delimiter=\",\", lineterminator=\"\\r\", fieldnames=names)\n",
    "        with open(quests_path) as f:\n",
    "            quests = json.load(f)\n",
    "        quests_aug = deepcopy(quests)\n",
    "        quests_aug['questions'] = []\n",
    "        index_arr = []\n",
    "        for i in range(len(quests['questions'])):\n",
    "            try:\n",
    "                if 'blue' in quests['questions'][i]['question'] and all(ele in quests['questions'][i]['question'] for ele in ['cylinder', 'rubber']):\n",
    "                    image_file = quests['questions'][i]['image_filename']\n",
    "                    image_index = quests['questions'][i]['image_index']\n",
    "                    \n",
    "                    if image_index not in index_arr:\n",
    "                        change_color(f'{images_path}/{image_file}', f'{images_path}/aug/CLEVR_test_aug_{image_index}.png')\n",
    "                        index_arr.append(image_index)\n",
    "                    quests_aug['questions'].append(quests['questions'][i])\n",
    "                    \n",
    "                    for m, j in [('blue', 'red'), ('cyan', 'pink'), ('purple', 'yellow')]:\n",
    "                        quests_aug['questions'][-1]['question'] = quests['questions'][i]['question'].replace(m, j)\n",
    "                    original = quests_aug['questions'][-1]['question']\n",
    "                    quests_aug['questions'][-1]['question'] = translator(quests_aug['questions'][-1]['question'])\n",
    "                    file_writer.writerow({'image_filename': f'CLEVR_test_aug_{image_index}.png', 'original': original, 'translation': quests_aug['questions'][-1]['question'], 'answer': translator(quests_aug['questions'][-1]['answer'])})\n",
    "            \n",
    "            except Exception as e:\n",
    "                print(f\"Ошибка при обработке вопроса: {e}\")\n",
    "                continue\n",
    "        \n",
    "    json.dump(quests, open('/CLEVR_v1.0/questions/CLEVR_test_questions.json', 'w', encoding='utf-8'), ensure_ascii=False)"
   ]
  }
 ],
 "metadata": {
  "colab": {
   "provenance": []
  },
  "kernelspec": {
   "display_name": "Python 3 (ipykernel)",
   "language": "python",
   "name": "python3"
  },
  "language_info": {
   "codemirror_mode": {
    "name": "ipython",
    "version": 3
   },
   "file_extension": ".py",
   "mimetype": "text/x-python",
   "name": "python",
   "nbconvert_exporter": "python",
   "pygments_lexer": "ipython3",
   "version": "3.11.5"
  }
 },
 "nbformat": 4,
 "nbformat_minor": 1
}
